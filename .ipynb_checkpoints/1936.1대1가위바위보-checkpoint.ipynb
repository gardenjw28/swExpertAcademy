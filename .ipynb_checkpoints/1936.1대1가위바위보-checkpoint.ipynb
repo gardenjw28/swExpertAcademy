{
 "cells": [
  {
   "cell_type": "code",
   "execution_count": 1,
   "metadata": {},
   "outputs": [
    {
     "name": "stdout",
     "output_type": "stream",
     "text": [
      "3 2\n",
      "A\n"
     ]
    }
   ],
   "source": [
    "A, B = input().split()\n",
    "A, B = int(A), int(B)\n",
    "d = {1:3, 2:1, 3:2}\n",
    "if d[A] == B:\n",
    "    print(\"A\")\n",
    "elif d[B] == A:\n",
    "    print(\"B\")"
   ]
  },
  {
   "cell_type": "code",
   "execution_count": 2,
   "metadata": {},
   "outputs": [
    {
     "name": "stdout",
     "output_type": "stream",
     "text": [
      "3 2\n",
      "A\n"
     ]
    }
   ],
   "source": [
    "a, b = map(int, input().split())\n",
    "if (a,b) in [(2,1),(3,2),(1,3)]:\n",
    "    print(\"A\")\n",
    "else:\n",
    "    print(\"B\")"
   ]
  },
  {
   "cell_type": "code",
   "execution_count": null,
   "metadata": {},
   "outputs": [],
   "source": []
  }
 ],
 "metadata": {
  "kernelspec": {
   "display_name": "Python 3",
   "language": "python",
   "name": "python3"
  },
  "language_info": {
   "codemirror_mode": {
    "name": "ipython",
    "version": 3
   },
   "file_extension": ".py",
   "mimetype": "text/x-python",
   "name": "python",
   "nbconvert_exporter": "python",
   "pygments_lexer": "ipython3",
   "version": "3.7.7"
  }
 },
 "nbformat": 4,
 "nbformat_minor": 4
}
